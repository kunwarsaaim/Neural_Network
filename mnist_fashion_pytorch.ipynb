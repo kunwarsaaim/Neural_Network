{
 "cells": [
  {
   "cell_type": "code",
   "execution_count": 1,
   "metadata": {},
   "outputs": [],
   "source": [
    "import torch\n",
    "import torch.nn as nn\n",
    "import torch.nn.functional as F\n",
    "import torch.optim as optim\n",
    "\n",
    "import torchvision\n",
    "import torchvision.transforms as transforms\n",
    "\n",
    "torch.set_printoptions(linewidth=120)"
   ]
  },
  {
   "cell_type": "code",
   "execution_count": 2,
   "metadata": {},
   "outputs": [
    {
     "name": "stdout",
     "output_type": "stream",
     "text": [
      "1.3.0\n"
     ]
    }
   ],
   "source": [
    "print(torch.__version__)"
   ]
  },
  {
   "cell_type": "code",
   "execution_count": 3,
   "metadata": {},
   "outputs": [],
   "source": [
    "def get_num_correct(preds,labels):\n",
    "    return preds.argmax(dim=1).eq(labels).sum().item()"
   ]
  },
  {
   "cell_type": "code",
   "execution_count": 4,
   "metadata": {},
   "outputs": [],
   "source": [
    "class Network(nn.Module):\n",
    "    def __init__(self):\n",
    "        super().__init__()\n",
    "        self.conv1 = nn.Conv2d(in_channels=1,out_channels=6,kernel_size=5)\n",
    "        self.conv2 = nn.Conv2d(in_channels=6,out_channels=12,kernel_size=5)\n",
    "        \n",
    "        self.fc1 = nn.Linear(in_features=12*4*4,out_features=120)\n",
    "        self.fc2 = nn.Linear(in_features=120,out_features=60)\n",
    "        self.out = nn.Linear(in_features=60,out_features=10)\n",
    "        \n",
    "    def forward(self,t):\n",
    "        t = F.relu(self.conv1(t))\n",
    "        t = F.max_pool2d(t,kernel_size=2,stride=2)\n",
    "        \n",
    "        t = F.relu(self.conv2(t))\n",
    "        t = F.max_pool2d(t,kernel_size=2,stride=2)\n",
    "        \n",
    "        t = t.reshape(-1,12*4*4)\n",
    "        t = F.relu(self.fc1(t))\n",
    "        \n",
    "        t = F.relu(self.fc2(t))\n",
    "        \n",
    "        t = self.out(t)\n",
    "        \n",
    "        return t\n",
    "    "
   ]
  },
  {
   "cell_type": "code",
   "execution_count": 6,
   "metadata": {},
   "outputs": [
    {
     "name": "stderr",
     "output_type": "stream",
     "text": [
      "\r",
      "0it [00:00, ?it/s]"
     ]
    },
    {
     "name": "stdout",
     "output_type": "stream",
     "text": [
      "Downloading http://fashion-mnist.s3-website.eu-central-1.amazonaws.com/train-images-idx3-ubyte.gz to ./data/FashionMNIST/raw/train-images-idx3-ubyte.gz\n"
     ]
    },
    {
     "name": "stderr",
     "output_type": "stream",
     "text": [
      "100%|█████████▉| 26419200/26421880 [01:22<00:00, 380768.04it/s] "
     ]
    },
    {
     "name": "stdout",
     "output_type": "stream",
     "text": [
      "Extracting ./data/FashionMNIST/raw/train-images-idx3-ubyte.gz to ./data/FashionMNIST/raw\n"
     ]
    },
    {
     "name": "stderr",
     "output_type": "stream",
     "text": [
      "\n",
      "0it [00:00, ?it/s]\u001b[A"
     ]
    },
    {
     "name": "stdout",
     "output_type": "stream",
     "text": [
      "Downloading http://fashion-mnist.s3-website.eu-central-1.amazonaws.com/train-labels-idx1-ubyte.gz to ./data/FashionMNIST/raw/train-labels-idx1-ubyte.gz\n"
     ]
    },
    {
     "name": "stderr",
     "output_type": "stream",
     "text": [
      "\n",
      "  0%|          | 0/29515 [00:00<?, ?it/s]\u001b[A\n",
      " 56%|█████▌    | 16384/29515 [00:00<00:00, 84982.28it/s]\u001b[A\n",
      " 83%|████████▎ | 24576/29515 [00:00<00:00, 65391.06it/s]\u001b[A\n",
      "32768it [00:01, 29153.15it/s]                           \u001b[A\n",
      "\n",
      "0it [00:00, ?it/s]\u001b[A"
     ]
    },
    {
     "name": "stdout",
     "output_type": "stream",
     "text": [
      "Extracting ./data/FashionMNIST/raw/train-labels-idx1-ubyte.gz to ./data/FashionMNIST/raw\n",
      "Downloading http://fashion-mnist.s3-website.eu-central-1.amazonaws.com/t10k-images-idx3-ubyte.gz to ./data/FashionMNIST/raw/t10k-images-idx3-ubyte.gz\n"
     ]
    },
    {
     "name": "stderr",
     "output_type": "stream",
     "text": [
      "\n",
      "  0%|          | 0/4422102 [00:00<?, ?it/s]\u001b[A\n",
      "  0%|          | 16384/4422102 [00:00<00:44, 98421.80it/s]\u001b[A\n",
      "  1%|          | 32768/4422102 [00:00<00:44, 98264.40it/s]\u001b[A\n",
      "  1%|          | 40960/4422102 [00:00<00:59, 74221.27it/s]\u001b[A\n",
      "  1%|▏         | 57344/4422102 [00:01<00:54, 80266.68it/s]\u001b[A\n",
      "  2%|▏         | 90112/4422102 [00:01<00:44, 97489.16it/s]\u001b[A\n",
      "  4%|▎         | 155648/4422102 [00:01<00:33, 125819.84it/s]\u001b[A\n",
      "  6%|▌         | 262144/4422102 [00:01<00:25, 166231.02it/s]\u001b[A\n",
      "  8%|▊         | 352256/4422102 [00:01<00:19, 209069.03it/s]\u001b[A\n",
      " 11%|█         | 475136/4422102 [00:01<00:14, 267710.66it/s]\u001b[A\n",
      " 13%|█▎        | 581632/4422102 [00:02<00:11, 324405.25it/s]\u001b[A\n",
      " 17%|█▋        | 745472/4422102 [00:02<00:09, 405025.69it/s]\u001b[A\n",
      " 22%|██▏       | 983040/4422102 [00:02<00:06, 534671.95it/s]\u001b[A\n",
      " 26%|██▌       | 1155072/4422102 [00:02<00:04, 673872.78it/s]\u001b[A\n",
      " 29%|██▉       | 1286144/4422102 [00:02<00:04, 750453.60it/s]\u001b[A\n",
      " 34%|███▍      | 1507328/4422102 [00:02<00:03, 922373.73it/s]\u001b[A\n",
      " 38%|███▊      | 1662976/4422102 [00:02<00:02, 1038895.28it/s]\u001b[A\n",
      " 41%|████      | 1810432/4422102 [00:02<00:02, 1080675.40it/s]\u001b[A\n",
      " 46%|████▌     | 2023424/4422102 [00:02<00:01, 1266874.49it/s]\u001b[A\n",
      " 49%|████▉     | 2187264/4422102 [00:03<00:01, 1315483.42it/s]\u001b[A\n",
      " 53%|█████▎    | 2342912/4422102 [00:03<00:01, 1301139.13it/s]\u001b[A\n",
      " 57%|█████▋    | 2539520/4422102 [00:03<00:01, 1447271.99it/s]\u001b[A\n",
      " 61%|██████    | 2703360/4422102 [00:03<00:01, 1492854.33it/s]\u001b[A\n",
      " 65%|██████▍   | 2867200/4422102 [00:03<00:01, 1366839.92it/s]\u001b[A\n",
      " 70%|███████   | 3096576/4422102 [00:03<00:00, 1378639.74it/s]\u001b[A\n",
      " 75%|███████▌  | 3325952/4422102 [00:03<00:00, 1550673.46it/s]\u001b[A\n",
      " 79%|███████▉  | 3497984/4422102 [00:03<00:00, 1542153.51it/s]\u001b[A\n",
      " 83%|████████▎ | 3661824/4422102 [00:04<00:00, 1451922.58it/s]\u001b[A\n",
      " 88%|████████▊ | 3874816/4422102 [00:04<00:00, 1585214.87it/s]\u001b[A\n",
      " 92%|█████████▏| 4046848/4422102 [00:04<00:00, 1575610.92it/s]\u001b[A\n",
      " 95%|█████████▌| 4210688/4422102 [00:04<00:00, 1453410.98it/s]\u001b[A\n",
      "4423680it [00:04, 970527.51it/s]                              \u001b[A\n",
      "\n",
      "0it [00:00, ?it/s]\u001b[A"
     ]
    },
    {
     "name": "stdout",
     "output_type": "stream",
     "text": [
      "Extracting ./data/FashionMNIST/raw/t10k-images-idx3-ubyte.gz to ./data/FashionMNIST/raw\n",
      "Downloading http://fashion-mnist.s3-website.eu-central-1.amazonaws.com/t10k-labels-idx1-ubyte.gz to ./data/FashionMNIST/raw/t10k-labels-idx1-ubyte.gz\n"
     ]
    },
    {
     "name": "stderr",
     "output_type": "stream",
     "text": [
      "\n",
      "8192it [00:00, 22092.23it/s]            \u001b[A"
     ]
    },
    {
     "name": "stdout",
     "output_type": "stream",
     "text": [
      "Extracting ./data/FashionMNIST/raw/t10k-labels-idx1-ubyte.gz to ./data/FashionMNIST/raw\n",
      "Processing...\n",
      "Done!\n"
     ]
    },
    {
     "name": "stderr",
     "output_type": "stream",
     "text": [
      "\n"
     ]
    }
   ],
   "source": [
    "tran_set = torchvision.datasets.FashionMNIST(\n",
    "        root='./data',\n",
    "        train=True,\n",
    "        download=True,\n",
    "        transform=transforms.Compose([\n",
    "            transforms.ToTensor()\n",
    "        ])\n",
    ")"
   ]
  },
  {
   "cell_type": "code",
   "execution_count": 10,
   "metadata": {},
   "outputs": [
    {
     "name": "stdout",
     "output_type": "stream",
     "text": [
      "epoch: 0 total correct: 46502 loss: 358.44425243139267\n",
      "epoch: 1 total correct: 51063 loss: 241.92368979752064\n",
      "epoch: 2 total correct: 51704 loss: 221.7484328597784\n",
      "epoch: 3 total correct: 52103 loss: 214.53608672320843\n",
      "epoch: 4 total correct: 52046 loss: 210.90614467859268\n"
     ]
    }
   ],
   "source": [
    "network = Network()\n",
    "\n",
    "train_loader = torch.utils.data.DataLoader(tran_set,batch_size=100)\n",
    "optimizer = optim.Adam(network.parameters(),lr=0.01)\n",
    "\n",
    "for epoch in range(5):\n",
    "    total_loss =0\n",
    "    total_correct = 0\n",
    "    for batch in train_loader:\n",
    "        images,labels = batch\n",
    "\n",
    "        preds = network(images)#pass Batch\n",
    "        loss = F.cross_entropy(preds,labels) #calculte loss\n",
    "\n",
    "        optimizer.zero_grad() \n",
    "        loss.backward() #calculate Grads\n",
    "        optimizer.step()#updata weights\n",
    "\n",
    "        total_loss += loss.item()\n",
    "        total_correct+=get_num_correct(preds,labels)\n",
    "    print(\"epoch:\",epoch,\"total correct:\",total_correct,\"loss:\",total_loss)"
   ]
  },
  {
   "cell_type": "code",
   "execution_count": 11,
   "metadata": {},
   "outputs": [
    {
     "data": {
      "text/plain": [
       "0.8674333333333333"
      ]
     },
     "execution_count": 11,
     "metadata": {},
     "output_type": "execute_result"
    }
   ],
   "source": [
    "total_correct/len(tran_set)"
   ]
  },
  {
   "cell_type": "code",
   "execution_count": null,
   "metadata": {},
   "outputs": [],
   "source": []
  }
 ],
 "metadata": {
  "kernelspec": {
   "display_name": "Python 3",
   "language": "python",
   "name": "python3"
  },
  "language_info": {
   "codemirror_mode": {
    "name": "ipython",
    "version": 3
   },
   "file_extension": ".py",
   "mimetype": "text/x-python",
   "name": "python",
   "nbconvert_exporter": "python",
   "pygments_lexer": "ipython3",
   "version": "3.6.8"
  }
 },
 "nbformat": 4,
 "nbformat_minor": 2
}
